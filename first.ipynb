{
  "nbformat": 4,
  "nbformat_minor": 0,
  "metadata": {
    "colab": {
      "name": "first.ipynb",
      "provenance": [],
      "include_colab_link": true
    },
    "kernelspec": {
      "name": "python3",
      "display_name": "Python 3"
    },
    "accelerator": "GPU"
  },
  "cells": [
    {
      "cell_type": "markdown",
      "metadata": {
        "id": "view-in-github",
        "colab_type": "text"
      },
      "source": [
        "<a href=\"https://colab.research.google.com/github/HamzaMohammadKhan/MFassignments/blob/master/first.ipynb\" target=\"_parent\"><img src=\"https://colab.research.google.com/assets/colab-badge.svg\" alt=\"Open In Colab\"/></a>"
      ]
    },
    {
      "cell_type": "code",
      "metadata": {
        "id": "6YxEkxmMTq7B",
        "colab_type": "code",
        "colab": {}
      },
      "source": [
        "!pip install Tensorflow"
      ],
      "execution_count": 0,
      "outputs": []
    },
    {
      "cell_type": "code",
      "metadata": {
        "id": "Xk2G6BBWUb3D",
        "colab_type": "code",
        "outputId": "d60fffb8-2d09-44ca-9ab7-2ce0b78cca81",
        "colab": {
          "base_uri": "https://localhost:8080/",
          "height": 34
        }
      },
      "source": [
        "import tensorflow as tf\n",
        "print(tf.version)"
      ],
      "execution_count": 0,
      "outputs": [
        {
          "output_type": "stream",
          "text": [
            "<module 'tensorflow._api.v1.version' from '/usr/local/lib/python3.6/dist-packages/tensorflow_core/_api/v1/version/__init__.py'>\n"
          ],
          "name": "stdout"
        }
      ]
    },
    {
      "cell_type": "code",
      "metadata": {
        "id": "vSuEb_lBVygd",
        "colab_type": "code",
        "colab": {}
      },
      "source": [
        "!pip install tensorflow-gpu"
      ],
      "execution_count": 0,
      "outputs": []
    },
    {
      "cell_type": "code",
      "metadata": {
        "id": "-9YSaqSeeyYT",
        "colab_type": "code",
        "outputId": "e217ffa4-9ec2-4e9b-cafc-2ec64c85e1aa",
        "colab": {
          "base_uri": "https://localhost:8080/",
          "height": 34
        }
      },
      "source": [
        "import tensorflow as tf\n",
        "print(tf.version)"
      ],
      "execution_count": 0,
      "outputs": [
        {
          "output_type": "stream",
          "text": [
            "<module 'tensorflow_core._api.v2.version' from '/usr/local/lib/python3.6/dist-packages/tensorflow_core/_api/v2/version/__init__.py'>\n"
          ],
          "name": "stdout"
        }
      ]
    },
    {
      "cell_type": "code",
      "metadata": {
        "id": "XrV555hafHFR",
        "colab_type": "code",
        "colab": {}
      },
      "source": [
        "!pip install tensorflow==2.0\n"
      ],
      "execution_count": 0,
      "outputs": []
    },
    {
      "cell_type": "code",
      "metadata": {
        "id": "g2STFeqsRXYF",
        "colab_type": "code",
        "colab": {}
      },
      "source": [
        "!pip install keras"
      ],
      "execution_count": 0,
      "outputs": []
    },
    {
      "cell_type": "code",
      "metadata": {
        "id": "kUj4kIfKhDLN",
        "colab_type": "code",
        "colab": {
          "resources": {
            "http://localhost:8080/nbextensions/google.colab/files.js": {
              "data": "Ly8gQ29weXJpZ2h0IDIwMTcgR29vZ2xlIExMQwovLwovLyBMaWNlbnNlZCB1bmRlciB0aGUgQXBhY2hlIExpY2Vuc2UsIFZlcnNpb24gMi4wICh0aGUgIkxpY2Vuc2UiKTsKLy8geW91IG1heSBub3QgdXNlIHRoaXMgZmlsZSBleGNlcHQgaW4gY29tcGxpYW5jZSB3aXRoIHRoZSBMaWNlbnNlLgovLyBZb3UgbWF5IG9idGFpbiBhIGNvcHkgb2YgdGhlIExpY2Vuc2UgYXQKLy8KLy8gICAgICBodHRwOi8vd3d3LmFwYWNoZS5vcmcvbGljZW5zZXMvTElDRU5TRS0yLjAKLy8KLy8gVW5sZXNzIHJlcXVpcmVkIGJ5IGFwcGxpY2FibGUgbGF3IG9yIGFncmVlZCB0byBpbiB3cml0aW5nLCBzb2Z0d2FyZQovLyBkaXN0cmlidXRlZCB1bmRlciB0aGUgTGljZW5zZSBpcyBkaXN0cmlidXRlZCBvbiBhbiAiQVMgSVMiIEJBU0lTLAovLyBXSVRIT1VUIFdBUlJBTlRJRVMgT1IgQ09ORElUSU9OUyBPRiBBTlkgS0lORCwgZWl0aGVyIGV4cHJlc3Mgb3IgaW1wbGllZC4KLy8gU2VlIHRoZSBMaWNlbnNlIGZvciB0aGUgc3BlY2lmaWMgbGFuZ3VhZ2UgZ292ZXJuaW5nIHBlcm1pc3Npb25zIGFuZAovLyBsaW1pdGF0aW9ucyB1bmRlciB0aGUgTGljZW5zZS4KCi8qKgogKiBAZmlsZW92ZXJ2aWV3IEhlbHBlcnMgZm9yIGdvb2dsZS5jb2xhYiBQeXRob24gbW9kdWxlLgogKi8KKGZ1bmN0aW9uKHNjb3BlKSB7CmZ1bmN0aW9uIHNwYW4odGV4dCwgc3R5bGVBdHRyaWJ1dGVzID0ge30pIHsKICBjb25zdCBlbGVtZW50ID0gZG9jdW1lbnQuY3JlYXRlRWxlbWVudCgnc3BhbicpOwogIGVsZW1lbnQudGV4dENvbnRlbnQgPSB0ZXh0OwogIGZvciAoY29uc3Qga2V5IG9mIE9iamVjdC5rZXlzKHN0eWxlQXR0cmlidXRlcykpIHsKICAgIGVsZW1lbnQuc3R5bGVba2V5XSA9IHN0eWxlQXR0cmlidXRlc1trZXldOwogIH0KICByZXR1cm4gZWxlbWVudDsKfQoKLy8gTWF4IG51bWJlciBvZiBieXRlcyB3aGljaCB3aWxsIGJlIHVwbG9hZGVkIGF0IGEgdGltZS4KY29uc3QgTUFYX1BBWUxPQURfU0laRSA9IDEwMCAqIDEwMjQ7Ci8vIE1heCBhbW91bnQgb2YgdGltZSB0byBibG9jayB3YWl0aW5nIGZvciB0aGUgdXNlci4KY29uc3QgRklMRV9DSEFOR0VfVElNRU9VVF9NUyA9IDMwICogMTAwMDsKCmZ1bmN0aW9uIF91cGxvYWRGaWxlcyhpbnB1dElkLCBvdXRwdXRJZCkgewogIGNvbnN0IHN0ZXBzID0gdXBsb2FkRmlsZXNTdGVwKGlucHV0SWQsIG91dHB1dElkKTsKICBjb25zdCBvdXRwdXRFbGVtZW50ID0gZG9jdW1lbnQuZ2V0RWxlbWVudEJ5SWQob3V0cHV0SWQpOwogIC8vIENhY2hlIHN0ZXBzIG9uIHRoZSBvdXRwdXRFbGVtZW50IHRvIG1ha2UgaXQgYXZhaWxhYmxlIGZvciB0aGUgbmV4dCBjYWxsCiAgLy8gdG8gdXBsb2FkRmlsZXNDb250aW51ZSBmcm9tIFB5dGhvbi4KICBvdXRwdXRFbGVtZW50LnN0ZXBzID0gc3RlcHM7CgogIHJldHVybiBfdXBsb2FkRmlsZXNDb250aW51ZShvdXRwdXRJZCk7Cn0KCi8vIFRoaXMgaXMgcm91Z2hseSBhbiBhc3luYyBnZW5lcmF0b3IgKG5vdCBzdXBwb3J0ZWQgaW4gdGhlIGJyb3dzZXIgeWV0KSwKLy8gd2hlcmUgdGhlcmUgYXJlIG11bHRpcGxlIGFzeW5jaHJvbm91cyBzdGVwcyBhbmQgdGhlIFB5dGhvbiBzaWRlIGlzIGdvaW5nCi8vIHRvIHBvbGwgZm9yIGNvbXBsZXRpb24gb2YgZWFjaCBzdGVwLgovLyBUaGlzIHVzZXMgYSBQcm9taXNlIHRvIGJsb2NrIHRoZSBweXRob24gc2lkZSBvbiBjb21wbGV0aW9uIG9mIGVhY2ggc3RlcCwKLy8gdGhlbiBwYXNzZXMgdGhlIHJlc3VsdCBvZiB0aGUgcHJldmlvdXMgc3RlcCBhcyB0aGUgaW5wdXQgdG8gdGhlIG5leHQgc3RlcC4KZnVuY3Rpb24gX3VwbG9hZEZpbGVzQ29udGludWUob3V0cHV0SWQpIHsKICBjb25zdCBvdXRwdXRFbGVtZW50ID0gZG9jdW1lbnQuZ2V0RWxlbWVudEJ5SWQob3V0cHV0SWQpOwogIGNvbnN0IHN0ZXBzID0gb3V0cHV0RWxlbWVudC5zdGVwczsKCiAgY29uc3QgbmV4dCA9IHN0ZXBzLm5leHQob3V0cHV0RWxlbWVudC5sYXN0UHJvbWlzZVZhbHVlKTsKICByZXR1cm4gUHJvbWlzZS5yZXNvbHZlKG5leHQudmFsdWUucHJvbWlzZSkudGhlbigodmFsdWUpID0+IHsKICAgIC8vIENhY2hlIHRoZSBsYXN0IHByb21pc2UgdmFsdWUgdG8gbWFrZSBpdCBhdmFpbGFibGUgdG8gdGhlIG5leHQKICAgIC8vIHN0ZXAgb2YgdGhlIGdlbmVyYXRvci4KICAgIG91dHB1dEVsZW1lbnQubGFzdFByb21pc2VWYWx1ZSA9IHZhbHVlOwogICAgcmV0dXJuIG5leHQudmFsdWUucmVzcG9uc2U7CiAgfSk7Cn0KCi8qKgogKiBHZW5lcmF0b3IgZnVuY3Rpb24gd2hpY2ggaXMgY2FsbGVkIGJldHdlZW4gZWFjaCBhc3luYyBzdGVwIG9mIHRoZSB1cGxvYWQKICogcHJvY2Vzcy4KICogQHBhcmFtIHtzdHJpbmd9IGlucHV0SWQgRWxlbWVudCBJRCBvZiB0aGUgaW5wdXQgZmlsZSBwaWNrZXIgZWxlbWVudC4KICogQHBhcmFtIHtzdHJpbmd9IG91dHB1dElkIEVsZW1lbnQgSUQgb2YgdGhlIG91dHB1dCBkaXNwbGF5LgogKiBAcmV0dXJuIHshSXRlcmFibGU8IU9iamVjdD59IEl0ZXJhYmxlIG9mIG5leHQgc3RlcHMuCiAqLwpmdW5jdGlvbiogdXBsb2FkRmlsZXNTdGVwKGlucHV0SWQsIG91dHB1dElkKSB7CiAgY29uc3QgaW5wdXRFbGVtZW50ID0gZG9jdW1lbnQuZ2V0RWxlbWVudEJ5SWQoaW5wdXRJZCk7CiAgaW5wdXRFbGVtZW50LmRpc2FibGVkID0gZmFsc2U7CgogIGNvbnN0IG91dHB1dEVsZW1lbnQgPSBkb2N1bWVudC5nZXRFbGVtZW50QnlJZChvdXRwdXRJZCk7CiAgb3V0cHV0RWxlbWVudC5pbm5lckhUTUwgPSAnJzsKCiAgY29uc3QgcGlja2VkUHJvbWlzZSA9IG5ldyBQcm9taXNlKChyZXNvbHZlKSA9PiB7CiAgICBpbnB1dEVsZW1lbnQuYWRkRXZlbnRMaXN0ZW5lcignY2hhbmdlJywgKGUpID0+IHsKICAgICAgcmVzb2x2ZShlLnRhcmdldC5maWxlcyk7CiAgICB9KTsKICB9KTsKCiAgY29uc3QgY2FuY2VsID0gZG9jdW1lbnQuY3JlYXRlRWxlbWVudCgnYnV0dG9uJyk7CiAgaW5wdXRFbGVtZW50LnBhcmVudEVsZW1lbnQuYXBwZW5kQ2hpbGQoY2FuY2VsKTsKICBjYW5jZWwudGV4dENvbnRlbnQgPSAnQ2FuY2VsIHVwbG9hZCc7CiAgY29uc3QgY2FuY2VsUHJvbWlzZSA9IG5ldyBQcm9taXNlKChyZXNvbHZlKSA9PiB7CiAgICBjYW5jZWwub25jbGljayA9ICgpID0+IHsKICAgICAgcmVzb2x2ZShudWxsKTsKICAgIH07CiAgfSk7CgogIC8vIENhbmNlbCB1cGxvYWQgaWYgdXNlciBoYXNuJ3QgcGlja2VkIGFueXRoaW5nIGluIHRpbWVvdXQuCiAgY29uc3QgdGltZW91dFByb21pc2UgPSBuZXcgUHJvbWlzZSgocmVzb2x2ZSkgPT4gewogICAgc2V0VGltZW91dCgoKSA9PiB7CiAgICAgIHJlc29sdmUobnVsbCk7CiAgICB9LCBGSUxFX0NIQU5HRV9USU1FT1VUX01TKTsKICB9KTsKCiAgLy8gV2FpdCBmb3IgdGhlIHVzZXIgdG8gcGljayB0aGUgZmlsZXMuCiAgY29uc3QgZmlsZXMgPSB5aWVsZCB7CiAgICBwcm9taXNlOiBQcm9taXNlLnJhY2UoW3BpY2tlZFByb21pc2UsIHRpbWVvdXRQcm9taXNlLCBjYW5jZWxQcm9taXNlXSksCiAgICByZXNwb25zZTogewogICAgICBhY3Rpb246ICdzdGFydGluZycsCiAgICB9CiAgfTsKCiAgaWYgKCFmaWxlcykgewogICAgcmV0dXJuIHsKICAgICAgcmVzcG9uc2U6IHsKICAgICAgICBhY3Rpb246ICdjb21wbGV0ZScsCiAgICAgIH0KICAgIH07CiAgfQoKICBjYW5jZWwucmVtb3ZlKCk7CgogIC8vIERpc2FibGUgdGhlIGlucHV0IGVsZW1lbnQgc2luY2UgZnVydGhlciBwaWNrcyBhcmUgbm90IGFsbG93ZWQuCiAgaW5wdXRFbGVtZW50LmRpc2FibGVkID0gdHJ1ZTsKCiAgZm9yIChjb25zdCBmaWxlIG9mIGZpbGVzKSB7CiAgICBjb25zdCBsaSA9IGRvY3VtZW50LmNyZWF0ZUVsZW1lbnQoJ2xpJyk7CiAgICBsaS5hcHBlbmQoc3BhbihmaWxlLm5hbWUsIHtmb250V2VpZ2h0OiAnYm9sZCd9KSk7CiAgICBsaS5hcHBlbmQoc3BhbigKICAgICAgICBgKCR7ZmlsZS50eXBlIHx8ICduL2EnfSkgLSAke2ZpbGUuc2l6ZX0gYnl0ZXMsIGAgKwogICAgICAgIGBsYXN0IG1vZGlmaWVkOiAkewogICAgICAgICAgICBmaWxlLmxhc3RNb2RpZmllZERhdGUgPyBmaWxlLmxhc3RNb2RpZmllZERhdGUudG9Mb2NhbGVEYXRlU3RyaW5nKCkgOgogICAgICAgICAgICAgICAgICAgICAgICAgICAgICAgICAgICAnbi9hJ30gLSBgKSk7CiAgICBjb25zdCBwZXJjZW50ID0gc3BhbignMCUgZG9uZScpOwogICAgbGkuYXBwZW5kQ2hpbGQocGVyY2VudCk7CgogICAgb3V0cHV0RWxlbWVudC5hcHBlbmRDaGlsZChsaSk7CgogICAgY29uc3QgZmlsZURhdGFQcm9taXNlID0gbmV3IFByb21pc2UoKHJlc29sdmUpID0+IHsKICAgICAgY29uc3QgcmVhZGVyID0gbmV3IEZpbGVSZWFkZXIoKTsKICAgICAgcmVhZGVyLm9ubG9hZCA9IChlKSA9PiB7CiAgICAgICAgcmVzb2x2ZShlLnRhcmdldC5yZXN1bHQpOwogICAgICB9OwogICAgICByZWFkZXIucmVhZEFzQXJyYXlCdWZmZXIoZmlsZSk7CiAgICB9KTsKICAgIC8vIFdhaXQgZm9yIHRoZSBkYXRhIHRvIGJlIHJlYWR5LgogICAgbGV0IGZpbGVEYXRhID0geWllbGQgewogICAgICBwcm9taXNlOiBmaWxlRGF0YVByb21pc2UsCiAgICAgIHJlc3BvbnNlOiB7CiAgICAgICAgYWN0aW9uOiAnY29udGludWUnLAogICAgICB9CiAgICB9OwoKICAgIC8vIFVzZSBhIGNodW5rZWQgc2VuZGluZyB0byBhdm9pZCBtZXNzYWdlIHNpemUgbGltaXRzLiBTZWUgYi82MjExNTY2MC4KICAgIGxldCBwb3NpdGlvbiA9IDA7CiAgICB3aGlsZSAocG9zaXRpb24gPCBmaWxlRGF0YS5ieXRlTGVuZ3RoKSB7CiAgICAgIGNvbnN0IGxlbmd0aCA9IE1hdGgubWluKGZpbGVEYXRhLmJ5dGVMZW5ndGggLSBwb3NpdGlvbiwgTUFYX1BBWUxPQURfU0laRSk7CiAgICAgIGNvbnN0IGNodW5rID0gbmV3IFVpbnQ4QXJyYXkoZmlsZURhdGEsIHBvc2l0aW9uLCBsZW5ndGgpOwogICAgICBwb3NpdGlvbiArPSBsZW5ndGg7CgogICAgICBjb25zdCBiYXNlNjQgPSBidG9hKFN0cmluZy5mcm9tQ2hhckNvZGUuYXBwbHkobnVsbCwgY2h1bmspKTsKICAgICAgeWllbGQgewogICAgICAgIHJlc3BvbnNlOiB7CiAgICAgICAgICBhY3Rpb246ICdhcHBlbmQnLAogICAgICAgICAgZmlsZTogZmlsZS5uYW1lLAogICAgICAgICAgZGF0YTogYmFzZTY0LAogICAgICAgIH0sCiAgICAgIH07CiAgICAgIHBlcmNlbnQudGV4dENvbnRlbnQgPQogICAgICAgICAgYCR7TWF0aC5yb3VuZCgocG9zaXRpb24gLyBmaWxlRGF0YS5ieXRlTGVuZ3RoKSAqIDEwMCl9JSBkb25lYDsKICAgIH0KICB9CgogIC8vIEFsbCBkb25lLgogIHlpZWxkIHsKICAgIHJlc3BvbnNlOiB7CiAgICAgIGFjdGlvbjogJ2NvbXBsZXRlJywKICAgIH0KICB9Owp9CgpzY29wZS5nb29nbGUgPSBzY29wZS5nb29nbGUgfHwge307CnNjb3BlLmdvb2dsZS5jb2xhYiA9IHNjb3BlLmdvb2dsZS5jb2xhYiB8fCB7fTsKc2NvcGUuZ29vZ2xlLmNvbGFiLl9maWxlcyA9IHsKICBfdXBsb2FkRmlsZXMsCiAgX3VwbG9hZEZpbGVzQ29udGludWUsCn07Cn0pKHNlbGYpOwo=",
              "ok": true,
              "headers": [
                [
                  "content-type",
                  "application/javascript"
                ]
              ],
              "status": 200,
              "status_text": ""
            }
          },
          "base_uri": "https://localhost:8080/",
          "height": 176
        },
        "outputId": "bf551227-6605-4d21-b565-756951d96026"
      },
      "source": [
        "import pandas as pd\n",
        "\n",
        "from google.colab import files\n",
        "files = files.upload()\n",
        "X_train = pd.read_csv(\"xtrain.csv\", header=None)\n",
        "Y_train = pd.read_csv(\"ytrain.csv\", header=None)\n",
        "X_test = pd.read_csv(\"xtest.csv\", header=None)\n",
        "Y_test = pd.read_csv(\"ytest.csv\", header=None)"
      ],
      "execution_count": 6,
      "outputs": [
        {
          "output_type": "display_data",
          "data": {
            "text/html": [
              "\n",
              "     <input type=\"file\" id=\"files-01852e72-e58b-4f9f-8cee-972119f4ae21\" name=\"files[]\" multiple disabled />\n",
              "     <output id=\"result-01852e72-e58b-4f9f-8cee-972119f4ae21\">\n",
              "      Upload widget is only available when the cell has been executed in the\n",
              "      current browser session. Please rerun this cell to enable.\n",
              "      </output>\n",
              "      <script src=\"/nbextensions/google.colab/files.js\"></script> "
            ],
            "text/plain": [
              "<IPython.core.display.HTML object>"
            ]
          },
          "metadata": {
            "tags": []
          }
        },
        {
          "output_type": "stream",
          "text": [
            "Saving xtest.csv to xtest (4).csv\n",
            "Saving xtrain.csv to xtrain (4).csv\n",
            "Saving ytest.csv to ytest (4).csv\n",
            "Saving ytrain.csv to ytrain (4).csv\n"
          ],
          "name": "stdout"
        }
      ]
    },
    {
      "cell_type": "code",
      "metadata": {
        "id": "GkXinL578U2H",
        "colab_type": "code",
        "colab": {}
      },
      "source": [
        "from tensorflow.keras.models import Sequential\n",
        "from tensorflow.keras.layers import Dense\n",
        "\n",
        "classifier = Sequential() #intlaize the Artificial Neural Network(ANN)\n",
        "classifier.add(Dense(units=16,activation='relu',input_dim=30))\n",
        "classifier.add(Dense(units=8,activation='relu'))\n",
        "classifier.add(Dense(units=6,activation='relu'))\n",
        "classifier.add(Dense(units=1,activation='sigmoid'))\n"
      ],
      "execution_count": 0,
      "outputs": []
    },
    {
      "cell_type": "code",
      "metadata": {
        "id": "x5z-WNEsVkWg",
        "colab_type": "code",
        "colab": {}
      },
      "source": [
        "classifier.compile(optimizer='rmsprop',loss='binary_crossentropy')"
      ],
      "execution_count": 0,
      "outputs": []
    },
    {
      "cell_type": "code",
      "metadata": {
        "id": "Xd0vVMVfXIG9",
        "colab_type": "code",
        "colab": {
          "base_uri": "https://localhost:8080/",
          "height": 1000
        },
        "outputId": "5cfb0dba-5613-4582-daf6-22974351d5e4"
      },
      "source": [
        "classifier.fit(X_train , Y_train , batch_size =1,epochs = 100 )"
      ],
      "execution_count": 9,
      "outputs": [
        {
          "output_type": "stream",
          "text": [
            "WARNING:tensorflow:Falling back from v2 loop because of error: Failed to find data adapter that can handle input: <class 'pandas.core.frame.DataFrame'>, <class 'NoneType'>\n",
            "Train on 455 samples\n",
            "Epoch 1/100\n",
            "455/455 [==============================] - 1s 1ms/sample - loss: 0.3423\n",
            "Epoch 2/100\n",
            "455/455 [==============================] - 1s 1ms/sample - loss: 0.1255\n",
            "Epoch 3/100\n",
            "455/455 [==============================] - 1s 1ms/sample - loss: 0.0985\n",
            "Epoch 4/100\n",
            "455/455 [==============================] - 1s 1ms/sample - loss: 0.0808\n",
            "Epoch 5/100\n",
            "455/455 [==============================] - 1s 1ms/sample - loss: 0.0824\n",
            "Epoch 6/100\n",
            "455/455 [==============================] - 1s 1ms/sample - loss: 0.0856\n",
            "Epoch 7/100\n",
            "455/455 [==============================] - 1s 1ms/sample - loss: 0.0785\n",
            "Epoch 8/100\n",
            "455/455 [==============================] - 1s 1ms/sample - loss: 0.0837\n",
            "Epoch 9/100\n",
            "455/455 [==============================] - 1s 1ms/sample - loss: 0.0808\n",
            "Epoch 10/100\n",
            "455/455 [==============================] - 1s 1ms/sample - loss: 0.0758\n",
            "Epoch 11/100\n",
            "455/455 [==============================] - 1s 1ms/sample - loss: 0.0765\n",
            "Epoch 12/100\n",
            "455/455 [==============================] - 1s 1ms/sample - loss: 0.0831\n",
            "Epoch 13/100\n",
            "455/455 [==============================] - 1s 1ms/sample - loss: 0.0780\n",
            "Epoch 14/100\n",
            "455/455 [==============================] - 1s 1ms/sample - loss: 0.0787\n",
            "Epoch 15/100\n",
            "455/455 [==============================] - 1s 1ms/sample - loss: 0.0772\n",
            "Epoch 16/100\n",
            "455/455 [==============================] - 1s 1ms/sample - loss: 0.0766\n",
            "Epoch 17/100\n",
            "455/455 [==============================] - 1s 1ms/sample - loss: 0.0810\n",
            "Epoch 18/100\n",
            "455/455 [==============================] - 1s 1ms/sample - loss: 0.0761\n",
            "Epoch 19/100\n",
            "455/455 [==============================] - 1s 1ms/sample - loss: 0.0695\n",
            "Epoch 20/100\n",
            "455/455 [==============================] - 1s 1ms/sample - loss: 0.0759\n",
            "Epoch 21/100\n",
            "455/455 [==============================] - 1s 1ms/sample - loss: 0.0721\n",
            "Epoch 22/100\n",
            "455/455 [==============================] - 1s 1ms/sample - loss: 0.0699\n",
            "Epoch 23/100\n",
            "455/455 [==============================] - 1s 1ms/sample - loss: 0.0730\n",
            "Epoch 24/100\n",
            "455/455 [==============================] - 1s 1ms/sample - loss: 0.0738\n",
            "Epoch 25/100\n",
            "455/455 [==============================] - 1s 1ms/sample - loss: 0.0672\n",
            "Epoch 26/100\n",
            "455/455 [==============================] - 1s 1ms/sample - loss: 0.0809\n",
            "Epoch 27/100\n",
            "455/455 [==============================] - 1s 1ms/sample - loss: 0.0684\n",
            "Epoch 28/100\n",
            "455/455 [==============================] - 1s 1ms/sample - loss: 0.0753\n",
            "Epoch 29/100\n",
            "455/455 [==============================] - 1s 1ms/sample - loss: 0.0770\n",
            "Epoch 30/100\n",
            "455/455 [==============================] - 1s 1ms/sample - loss: 0.0619\n",
            "Epoch 31/100\n",
            "455/455 [==============================] - 1s 1ms/sample - loss: 0.0632\n",
            "Epoch 32/100\n",
            "455/455 [==============================] - 1s 1ms/sample - loss: 0.0689\n",
            "Epoch 33/100\n",
            "455/455 [==============================] - 1s 1ms/sample - loss: 0.0701\n",
            "Epoch 34/100\n",
            "455/455 [==============================] - 1s 1ms/sample - loss: 0.0613\n",
            "Epoch 35/100\n",
            "455/455 [==============================] - 1s 1ms/sample - loss: 0.0640\n",
            "Epoch 36/100\n",
            "455/455 [==============================] - 1s 1ms/sample - loss: 0.0718\n",
            "Epoch 37/100\n",
            "455/455 [==============================] - 1s 1ms/sample - loss: 0.0596\n",
            "Epoch 38/100\n",
            "455/455 [==============================] - 1s 1ms/sample - loss: 0.0680\n",
            "Epoch 39/100\n",
            "455/455 [==============================] - 1s 1ms/sample - loss: 0.0662\n",
            "Epoch 40/100\n",
            "455/455 [==============================] - 1s 1ms/sample - loss: 0.0515\n",
            "Epoch 41/100\n",
            "455/455 [==============================] - 1s 1ms/sample - loss: 0.0636\n",
            "Epoch 42/100\n",
            "455/455 [==============================] - 1s 1ms/sample - loss: 0.0652\n",
            "Epoch 43/100\n",
            "455/455 [==============================] - 1s 1ms/sample - loss: 0.0594\n",
            "Epoch 44/100\n",
            "455/455 [==============================] - 1s 1ms/sample - loss: 0.0668\n",
            "Epoch 45/100\n",
            "455/455 [==============================] - 1s 1ms/sample - loss: 0.0565\n",
            "Epoch 46/100\n",
            "455/455 [==============================] - 1s 1ms/sample - loss: 0.0620\n",
            "Epoch 47/100\n",
            "455/455 [==============================] - 1s 1ms/sample - loss: 0.0649\n",
            "Epoch 48/100\n",
            "455/455 [==============================] - 1s 1ms/sample - loss: 0.0660\n",
            "Epoch 49/100\n",
            "455/455 [==============================] - 1s 1ms/sample - loss: 0.0593\n",
            "Epoch 50/100\n",
            "455/455 [==============================] - 1s 1ms/sample - loss: 0.0596\n",
            "Epoch 51/100\n",
            "455/455 [==============================] - 1s 1ms/sample - loss: 0.0544\n",
            "Epoch 52/100\n",
            "455/455 [==============================] - 1s 1ms/sample - loss: 0.0543\n",
            "Epoch 53/100\n",
            "455/455 [==============================] - 1s 1ms/sample - loss: 0.0767\n",
            "Epoch 54/100\n",
            "455/455 [==============================] - 1s 1ms/sample - loss: 0.0629\n",
            "Epoch 55/100\n",
            "455/455 [==============================] - 1s 1ms/sample - loss: 0.0560\n",
            "Epoch 56/100\n",
            "455/455 [==============================] - 1s 1ms/sample - loss: 0.0539\n",
            "Epoch 57/100\n",
            "455/455 [==============================] - 1s 1ms/sample - loss: 0.0592\n",
            "Epoch 58/100\n",
            "455/455 [==============================] - 1s 1ms/sample - loss: 0.0488\n",
            "Epoch 59/100\n",
            "455/455 [==============================] - 1s 1ms/sample - loss: 0.0577\n",
            "Epoch 60/100\n",
            "455/455 [==============================] - 1s 1ms/sample - loss: 0.0671\n",
            "Epoch 61/100\n",
            "455/455 [==============================] - 1s 1ms/sample - loss: 0.0593\n",
            "Epoch 62/100\n",
            "455/455 [==============================] - 1s 1ms/sample - loss: 0.0524\n",
            "Epoch 63/100\n",
            "455/455 [==============================] - 1s 1ms/sample - loss: 0.0601\n",
            "Epoch 64/100\n",
            "455/455 [==============================] - 1s 1ms/sample - loss: 0.0468\n",
            "Epoch 65/100\n",
            "455/455 [==============================] - 1s 1ms/sample - loss: 0.0757\n",
            "Epoch 66/100\n",
            "455/455 [==============================] - 1s 1ms/sample - loss: 0.0514\n",
            "Epoch 67/100\n",
            "455/455 [==============================] - 1s 1ms/sample - loss: 0.0495\n",
            "Epoch 68/100\n",
            "455/455 [==============================] - 1s 1ms/sample - loss: 0.0571\n",
            "Epoch 69/100\n",
            "455/455 [==============================] - 1s 1ms/sample - loss: 0.0423\n",
            "Epoch 70/100\n",
            "455/455 [==============================] - 1s 1ms/sample - loss: 0.0428\n",
            "Epoch 71/100\n",
            "455/455 [==============================] - 1s 1ms/sample - loss: 0.0390\n",
            "Epoch 72/100\n",
            "455/455 [==============================] - 1s 1ms/sample - loss: 0.0502\n",
            "Epoch 73/100\n",
            "455/455 [==============================] - 1s 1ms/sample - loss: 0.0547\n",
            "Epoch 74/100\n",
            "455/455 [==============================] - 1s 1ms/sample - loss: 0.0402\n",
            "Epoch 75/100\n",
            "455/455 [==============================] - 1s 1ms/sample - loss: 0.0391\n",
            "Epoch 76/100\n",
            "455/455 [==============================] - 1s 1ms/sample - loss: 0.0346\n",
            "Epoch 77/100\n",
            "455/455 [==============================] - 1s 1ms/sample - loss: 0.0234\n",
            "Epoch 78/100\n",
            "455/455 [==============================] - 1s 1ms/sample - loss: 0.0417\n",
            "Epoch 79/100\n",
            "455/455 [==============================] - 1s 1ms/sample - loss: 0.0366\n",
            "Epoch 80/100\n",
            "455/455 [==============================] - 1s 1ms/sample - loss: 0.0383\n",
            "Epoch 81/100\n",
            "455/455 [==============================] - 1s 1ms/sample - loss: 0.0286\n",
            "Epoch 82/100\n",
            "455/455 [==============================] - 1s 1ms/sample - loss: 0.0335\n",
            "Epoch 83/100\n",
            "455/455 [==============================] - 1s 1ms/sample - loss: 0.0326\n",
            "Epoch 84/100\n",
            "455/455 [==============================] - 1s 1ms/sample - loss: 0.0221\n",
            "Epoch 85/100\n",
            "455/455 [==============================] - 1s 1ms/sample - loss: 0.0269\n",
            "Epoch 86/100\n",
            "455/455 [==============================] - 0s 1ms/sample - loss: 0.0278\n",
            "Epoch 87/100\n",
            "455/455 [==============================] - 1s 1ms/sample - loss: 0.0248\n",
            "Epoch 88/100\n",
            "455/455 [==============================] - 1s 1ms/sample - loss: 0.0308\n",
            "Epoch 89/100\n",
            "455/455 [==============================] - 1s 1ms/sample - loss: 0.0249\n",
            "Epoch 90/100\n",
            "455/455 [==============================] - 1s 1ms/sample - loss: 0.0236\n",
            "Epoch 91/100\n",
            "455/455 [==============================] - 1s 1ms/sample - loss: 0.0169\n",
            "Epoch 92/100\n",
            "455/455 [==============================] - 1s 1ms/sample - loss: 0.0301\n",
            "Epoch 93/100\n",
            "455/455 [==============================] - 1s 1ms/sample - loss: 0.0304\n",
            "Epoch 94/100\n",
            "455/455 [==============================] - 1s 1ms/sample - loss: 0.0456\n",
            "Epoch 95/100\n",
            "455/455 [==============================] - 1s 1ms/sample - loss: 0.0211\n",
            "Epoch 96/100\n",
            "455/455 [==============================] - 1s 1ms/sample - loss: 0.0215\n",
            "Epoch 97/100\n",
            "455/455 [==============================] - 1s 1ms/sample - loss: 0.0173\n",
            "Epoch 98/100\n",
            "455/455 [==============================] - 1s 1ms/sample - loss: 0.0224\n",
            "Epoch 99/100\n",
            "455/455 [==============================] - 1s 1ms/sample - loss: 0.0182\n",
            "Epoch 100/100\n",
            "455/455 [==============================] - 1s 1ms/sample - loss: 0.0334\n"
          ],
          "name": "stdout"
        },
        {
          "output_type": "execute_result",
          "data": {
            "text/plain": [
              "<tensorflow.python.keras.callbacks.History at 0x7f5176f76588>"
            ]
          },
          "metadata": {
            "tags": []
          },
          "execution_count": 9
        }
      ]
    },
    {
      "cell_type": "code",
      "metadata": {
        "id": "UngaRqIffy5k",
        "colab_type": "code",
        "colab": {
          "base_uri": "https://localhost:8080/",
          "height": 54
        },
        "outputId": "9dcd7ea3-1e9d-43f2-bfb5-a1f6d2057945"
      },
      "source": [
        "Y_pred = classifier.predict(X_test)\n",
        "Y_pred = [ 1 if y>=0.5 else 0 for y in Y_pred ]"
      ],
      "execution_count": 10,
      "outputs": [
        {
          "output_type": "stream",
          "text": [
            "WARNING:tensorflow:Falling back from v2 loop because of error: Failed to find data adapter that can handle input: <class 'pandas.core.frame.DataFrame'>, <class 'NoneType'>\n"
          ],
          "name": "stdout"
        }
      ]
    },
    {
      "cell_type": "code",
      "metadata": {
        "id": "wc0GRrJ1hG_z",
        "colab_type": "code",
        "colab": {
          "base_uri": "https://localhost:8080/",
          "height": 68
        },
        "outputId": "b2f84215-de57-43e4-c6b6-4aed2e401aa9"
      },
      "source": [
        "total = 0\n",
        "correct = 0\n",
        "wrong = 0\n",
        "for i in range(len(Y_pred)):\n",
        "  total=total+1\n",
        "  if(Y_test.at[i,0] == Y_pred[i]):\n",
        "    correct=correct+1\n",
        "  else:\n",
        "    wrong=wrong+1\n",
        "\n",
        "print(\"Total \" + str(total))\n",
        "print(\"Correct \" + str(correct))\n",
        "print(\"Wrong \" + str(wrong))"
      ],
      "execution_count": 11,
      "outputs": [
        {
          "output_type": "stream",
          "text": [
            "Total 114\n",
            "Correct 111\n",
            "Wrong 3\n"
          ],
          "name": "stdout"
        }
      ]
    }
  ]
}